{
  "nbformat": 4,
  "nbformat_minor": 0,
  "metadata": {
    "colab": {
      "name": "Exp-5_Nishant Raj_500070098_R-103218183_LLP using Arreay_24Sept2021_ORO lab.ipynb",
      "provenance": [],
      "authorship_tag": "ABX9TyOtp+fNclclD1JLRxcKgrY4",
      "include_colab_link": true
    },
    "kernelspec": {
      "name": "python3",
      "display_name": "Python 3"
    },
    "language_info": {
      "name": "python"
    }
  },
  "cells": [
    {
      "cell_type": "markdown",
      "metadata": {
        "id": "view-in-github",
        "colab_type": "text"
      },
      "source": [
        "<a href=\"https://colab.research.google.com/github/nishantraj123/-Operation-Research-Lab-Python/blob/main/Exp_5_Nishant_Raj_500070098_R_103218183_LLP_24Sept2021_ORO_lab.ipynb\" target=\"_parent\"><img src=\"https://colab.research.google.com/assets/colab-badge.svg\" alt=\"Open In Colab\"/></a>"
      ]
    },
    {
      "cell_type": "markdown",
      "metadata": {
        "id": "XMk41WVBCW7l"
      },
      "source": [
        "**TITLE:   LPP using Array**"
      ]
    },
    {
      "cell_type": "markdown",
      "metadata": {
        "id": "lDehiNBfCnOY"
      },
      "source": [
        "1)\t maximize \n",
        "\n",
        " Z = 3X¬1 + 2X2 + 3X3 \n",
        "Subject to,\n",
        "\n",
        " 2X¬1 + X2 + X3 = 2\n",
        "\n",
        "X¬1 + 3X2 + X3 =6\n",
        "\n",
        "3X¬1 + 4X2 + 2X3 =8\n",
        "\n",
        "X1 ,X2 , X3 ≥0\n"
      ]
    },
    {
      "cell_type": "code",
      "metadata": {
        "id": "Anxm3jrICWFd"
      },
      "source": [
        "from scipy import *"
      ],
      "execution_count": 1,
      "outputs": []
    },
    {
      "cell_type": "code",
      "metadata": {
        "id": "sxeHkplDDEYP"
      },
      "source": [
        "from scipy.optimize import linprog"
      ],
      "execution_count": 2,
      "outputs": []
    },
    {
      "cell_type": "code",
      "metadata": {
        "id": "IFiir2UBDK3m"
      },
      "source": [
        "import time"
      ],
      "execution_count": 3,
      "outputs": []
    },
    {
      "cell_type": "code",
      "metadata": {
        "id": "x37fCY7uDRS7"
      },
      "source": [
        "c = [-3,-2,-3]\n",
        "A = [[2,1,1],[1,3,1],[3,4,2]]\n",
        "b = [2,6,8]"
      ],
      "execution_count": 4,
      "outputs": []
    },
    {
      "cell_type": "code",
      "metadata": {
        "id": "bzIdWwJaDUPu"
      },
      "source": [
        "x1_bnds = (0, None)\n",
        "x2_bnds = (0, None)\n",
        "x3_bnds = (0, None)"
      ],
      "execution_count": 5,
      "outputs": []
    },
    {
      "cell_type": "code",
      "metadata": {
        "id": "j6PURRUrDXq7"
      },
      "source": [
        "begin = time.time()"
      ],
      "execution_count": 6,
      "outputs": []
    },
    {
      "cell_type": "code",
      "metadata": {
        "colab": {
          "base_uri": "https://localhost:8080/"
        },
        "id": "2pYdeYdwDeli",
        "outputId": "204924bc-065c-4260-c043-fb12506f0e3c"
      },
      "source": [
        "res = linprog(c, A_eq=A, b_eq=b, bounds=(x1_bnds, x2_bnds, x3_bnds), method='simplex', options={\"disp\":True})\n",
        "print(\"Time taken: %s seconds\"%(time.time()-begin))\n",
        "print(res)"
      ],
      "execution_count": 8,
      "outputs": [
        {
          "output_type": "stream",
          "name": "stdout",
          "text": [
            "Optimization terminated successfully.\n",
            "         Current function value: -4.000000   \n",
            "         Iterations: 3\n",
            "Time taken: 49.531256437301636 seconds\n",
            "     con: array([0., 0., 0.])\n",
            "     fun: -4.0\n",
            " message: 'Optimization terminated successfully.'\n",
            "     nit: 3\n",
            "   slack: array([], dtype=float64)\n",
            "  status: 0\n",
            " success: True\n",
            "       x: array([0., 2., 0.])\n"
          ]
        },
        {
          "output_type": "stream",
          "name": "stderr",
          "text": [
            "/usr/local/lib/python3.7/dist-packages/ipykernel_launcher.py:1: OptimizeWarning: A_eq does not appear to be of full row rank. To improve performance, check the problem formulation for redundant equality constraints.\n",
            "  \"\"\"Entry point for launching an IPython kernel.\n"
          ]
        }
      ]
    },
    {
      "cell_type": "markdown",
      "metadata": {
        "id": "6TcdOI3vDpzq"
      },
      "source": [
        "2)\tminimize \n",
        "\n",
        " Z = 3X¬1 - 4X2 + 3X3\n",
        "\n",
        "Subject to,\n",
        "\n",
        " 5X¬1 + 6X2 + 2X3 ≤ 5\n",
        "\n",
        "-X¬1 + 3X2 +5 X3 ≥ 8\n",
        "\n",
        "2X¬1 + 5X2 - 4X3 ≤4\n",
        "\n",
        "X1 ,X2 , X3 ≥0\n"
      ]
    },
    {
      "cell_type": "code",
      "metadata": {
        "id": "NKCOo-wFEEIB"
      },
      "source": [
        "c = [3,-4,3]\n",
        "A = [[5,6,2],[1,-3,-5],[2,5,-4]]\n",
        "b = [5,-8,4]"
      ],
      "execution_count": 9,
      "outputs": []
    },
    {
      "cell_type": "code",
      "metadata": {
        "id": "TcO6DIPXGH0Y"
      },
      "source": [
        "x1_bnds = (0, None)\n",
        "x2_bnds = (0, None)\n",
        "x3_bnds = (0, None)"
      ],
      "execution_count": 10,
      "outputs": []
    },
    {
      "cell_type": "code",
      "metadata": {
        "id": "fj53CbuQGLbD"
      },
      "source": [
        "begin = time.time()"
      ],
      "execution_count": 11,
      "outputs": []
    },
    {
      "cell_type": "code",
      "metadata": {
        "colab": {
          "base_uri": "https://localhost:8080/"
        },
        "id": "I-7JpNKfGRlz",
        "outputId": "f261a6fe-d6bf-4064-a397-c36ef5c5cb80"
      },
      "source": [
        "res2 = linprog(c, A, b, bounds=(x1_bnds, x2_bnds, x3_bnds), method='simplex', options={\"disp\":True})\n",
        "print(\"Time taken: %s seconds\"%(time.time()-begin))\n",
        "print(res2)"
      ],
      "execution_count": 12,
      "outputs": [
        {
          "output_type": "stream",
          "name": "stdout",
          "text": [
            "Optimization terminated successfully.\n",
            "         Current function value: 2.625000    \n",
            "         Iterations: 3\n",
            "Time taken: 15.397744178771973 seconds\n",
            "     con: array([], dtype=float64)\n",
            "     fun: 2.624999999999999\n",
            " message: 'Optimization terminated successfully.'\n",
            "     nit: 3\n",
            "   slack: array([ 0.0000000e+00, -8.8817842e-16,  7.6250000e+00])\n",
            "  status: 0\n",
            " success: True\n",
            "       x: array([0.   , 0.375, 1.375])\n"
          ]
        }
      ]
    },
    {
      "cell_type": "markdown",
      "metadata": {
        "id": "nGvb5WpbGjcr"
      },
      "source": [
        "3)\tmaximize \n",
        "\n",
        " Z = 2X¬1 + 4X2 + 4X3  -3X4\n",
        "Subject to,\n",
        "\n",
        " X¬1 + X2 + X3 = 4\n",
        "\n",
        "X¬1 + 4X2 + X4 =8\n",
        "\n",
        "3X¬1 + 4X2 + 2X3 =8\n",
        "X1 ,X2 , X3 , X4 ≥0\n"
      ]
    },
    {
      "cell_type": "code",
      "metadata": {
        "id": "0H-bXtKCGyUA"
      },
      "source": [
        "c = [-2,-4,-4,3]\n",
        "A = [[1,1,1,0],[1,4,0,1],[3,4,2,0]]\n",
        "b = [4,8,8]"
      ],
      "execution_count": 13,
      "outputs": []
    },
    {
      "cell_type": "code",
      "metadata": {
        "id": "QB7LeqNJG5Lq"
      },
      "source": [
        "x1_bnds = (0, None)\n",
        "x2_bnds = (0, None)\n",
        "x3_bnds = (0, None)\n",
        "x4_bnds = (0, None)"
      ],
      "execution_count": 14,
      "outputs": []
    },
    {
      "cell_type": "code",
      "metadata": {
        "id": "SbyZkFYTG6tv"
      },
      "source": [
        "begin=time.time()"
      ],
      "execution_count": 15,
      "outputs": []
    },
    {
      "cell_type": "code",
      "metadata": {
        "colab": {
          "base_uri": "https://localhost:8080/"
        },
        "id": "gotY6WhaG925",
        "outputId": "304ca382-b9e4-499a-cc54-94e523ae1495"
      },
      "source": [
        "res3 = linprog(c, A_eq=A, b_eq=b, bounds=(x1_bnds, x2_bnds, x3_bnds, x4_bnds), method='simplex', options={\"disp\":True})\n",
        "print(\"Time taken: %s seconds\"%(time.time()-begin))\n",
        "print(res3)"
      ],
      "execution_count": 17,
      "outputs": [
        {
          "output_type": "stream",
          "name": "stdout",
          "text": [
            "Optimization terminated successfully.\n",
            "         Current function value: 8.000000    \n",
            "         Iterations: 3\n",
            "Time taken: 46.73947072029114 seconds\n",
            "     con: array([0., 0., 0.])\n",
            "     fun: 8.0\n",
            " message: 'Optimization terminated successfully.'\n",
            "     nit: 3\n",
            "   slack: array([], dtype=float64)\n",
            "  status: 0\n",
            " success: True\n",
            "       x: array([0., 0., 4., 8.])\n"
          ]
        }
      ]
    }
  ]
}