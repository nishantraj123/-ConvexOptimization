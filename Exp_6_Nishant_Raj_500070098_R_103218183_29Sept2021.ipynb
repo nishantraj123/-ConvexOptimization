{
  "nbformat": 4,
  "nbformat_minor": 0,
  "metadata": {
    "colab": {
      "name": "Exp-6_Nishant Raj_500070098_R-103218183_29Sept2021.ipynb",
      "provenance": [],
      "collapsed_sections": [],
      "authorship_tag": "ABX9TyMHLye53a3Lsg6zWANBeWiz",
      "include_colab_link": true
    },
    "kernelspec": {
      "name": "python3",
      "display_name": "Python 3"
    },
    "language_info": {
      "name": "python"
    }
  },
  "cells": [
    {
      "cell_type": "markdown",
      "metadata": {
        "id": "view-in-github",
        "colab_type": "text"
      },
      "source": [
        "<a href=\"https://colab.research.google.com/github/nishantraj123/-Operation-Research-Lab-Python/blob/main/Exp_6_Nishant_Raj_500070098_R_103218183_29Sept2021.ipynb\" target=\"_parent\"><img src=\"https://colab.research.google.com/assets/colab-badge.svg\" alt=\"Open In Colab\"/></a>"
      ]
    },
    {
      "cell_type": "markdown",
      "metadata": {
        "id": "63vHGRt1gSD9"
      },
      "source": [
        "**TITLE: Data Isolation**"
      ]
    },
    {
      "cell_type": "markdown",
      "metadata": {
        "id": "digDpVCGdm99"
      },
      "source": [
        "**1Q**. Consider a Belgian company Volsay, which specializes in producing ammoniac gas (NH3) and ammonium chloride (NH4Cl). Volsay has at its disposal 50 units of nitrogen (N), 180 units of hydrogen (H), and 40 units of chlorine (Cl). The company makes a profit of 40 Euros for each sale of an ammoniac gas unit and 50 Euros for each sale of an ammonium chloride unit. Volsay would like a production plan maximizing its profits given its available stocks."
      ]
    },
    {
      "cell_type": "code",
      "metadata": {
        "id": "mlt6fL9jdQZ1"
      },
      "source": [
        "from scipy.optimize import linprog"
      ],
      "execution_count": 1,
      "outputs": []
    },
    {
      "cell_type": "code",
      "metadata": {
        "id": "TfLAeCiNeXmU"
      },
      "source": [
        "import time"
      ],
      "execution_count": 2,
      "outputs": []
    },
    {
      "cell_type": "code",
      "metadata": {
        "id": "ogTpkN3heaQL"
      },
      "source": [
        "c = [-40, -50]\n",
        "A = [[1, 1],[3,4],[0,1]]\n",
        "b = [50,180,40]"
      ],
      "execution_count": 3,
      "outputs": []
    },
    {
      "cell_type": "code",
      "metadata": {
        "id": "sOQlWSD-eyCh"
      },
      "source": [
        "x1_bnds = (0, None)\n",
        "x2_bnds = (0, None)"
      ],
      "execution_count": 8,
      "outputs": []
    },
    {
      "cell_type": "code",
      "metadata": {
        "id": "j8oOoX5Oe2za"
      },
      "source": [
        "start_time = time.time()\n",
        "res = linprog(c, A,  b, bounds=(x1_bnds, x2_bnds),method = 'revised simplex')"
      ],
      "execution_count": 9,
      "outputs": []
    },
    {
      "cell_type": "code",
      "metadata": {
        "colab": {
          "base_uri": "https://localhost:8080/"
        },
        "id": "FpNOByr5e5ta",
        "outputId": "f075b6e4-fb83-4dfd-8d3d-5d208af09fd9"
      },
      "source": [
        "print(\"--- %s seconds ---\" % (time.time() - start_time))\n",
        "print(res)"
      ],
      "execution_count": 10,
      "outputs": [
        {
          "output_type": "stream",
          "name": "stdout",
          "text": [
            "--- 11.826979160308838 seconds ---\n",
            "     con: array([], dtype=float64)\n",
            "     fun: -2300.0\n",
            " message: 'Optimization terminated successfully.'\n",
            "     nit: 3\n",
            "   slack: array([ 0.,  0., 10.])\n",
            "  status: 0\n",
            " success: True\n",
            "       x: array([20., 30.])\n"
          ]
        }
      ]
    },
    {
      "cell_type": "markdown",
      "metadata": {
        "id": "hBz4ovJBe7_m"
      },
      "source": [
        "**Q2.**  On October 1 a company received a contract to supply 6000 units of specialized product . the term of contract require that 1000 unit be shipped in October , 3000 units in November and 2000 units in December . the company can manufacture 1500 units in a month on a regular time and 750 units per month in overtime. The manufacturing cost per item produced in regular time is Rs 3 and the cost per item produced during overtime is Rs 5.The monthly storage cost is Rs 1.Formulate this problem as LP model so as to minimize total cost."
      ]
    },
    {
      "cell_type": "code",
      "metadata": {
        "id": "lLCeJXROfECA"
      },
      "source": [
        "import cvxpy as cp"
      ],
      "execution_count": 11,
      "outputs": []
    },
    {
      "cell_type": "code",
      "metadata": {
        "id": "cyoq4Y99fNKD"
      },
      "source": [
        "x1 = cp.Variable(integer=True)\n",
        "x2 = cp.Variable(integer=True)\n",
        "x3 = cp.Variable(integer=True)\n",
        "y1 = cp.Variable(integer=True)\n",
        "y2 = cp.Variable(integer=True)\n",
        "y3 = cp.Variable(integer=True)"
      ],
      "execution_count": 12,
      "outputs": []
    },
    {
      "cell_type": "code",
      "metadata": {
        "id": "yl7cIFlPfQ3i"
      },
      "source": [
        "constraints = [x1+x2+x3+y1+y2+y3==6000,\n",
        "               x1+y1>=1000,\n",
        "               x1+y1+x2+y2>=4000,\n",
        "               x1<=1500,\n",
        "               x2<=1500,\n",
        "               x3<=1500,\n",
        "               y1<=750,\n",
        "               y2<=750,\n",
        "               y3<=750]"
      ],
      "execution_count": 13,
      "outputs": []
    },
    {
      "cell_type": "code",
      "metadata": {
        "id": "oEpSq_aVfViG"
      },
      "source": [
        "obj = cp.Minimize(5*x1+4*x2+3*x3+7*y1+6*y2+5*y3-5000)"
      ],
      "execution_count": 14,
      "outputs": []
    },
    {
      "cell_type": "code",
      "metadata": {
        "colab": {
          "base_uri": "https://localhost:8080/"
        },
        "id": "VauXimk8fXWe",
        "outputId": "937aaacb-5156-4b6b-ce21-3144e3359700"
      },
      "source": [
        "prob = cp.Problem(obj, constraints)\n",
        "prob.solve()\n",
        "\n",
        "print(\"x1:\", x1.value)\n",
        "print(\"x2:\", x2.value)  \n",
        "print(\"x3:\", x3.value)\n",
        "print(\"y1:\", y1.value)\n",
        "print(\"y2:\", y2.value)\n",
        "print(\"y3:\", y3.value)\n",
        "print(\"obj:\",prob.value)"
      ],
      "execution_count": 15,
      "outputs": [
        {
          "output_type": "stream",
          "name": "stdout",
          "text": [
            "x1: 1500.0\n",
            "x2: 1500.0\n",
            "x3: 1500.0\n",
            "y1: 250.0\n",
            "y2: 750.0\n",
            "y3: 500.0\n",
            "obj: 21750.0\n"
          ]
        }
      ]
    },
    {
      "cell_type": "markdown",
      "metadata": {
        "id": "9MIR82LafcmH"
      },
      "source": [
        "**Q3.**  \n",
        "Maximize Z=4x1+3x2\n",
        "\n",
        "Subject to\n",
        "\n",
        "2x1+x2 ≤ 1000\n",
        "\n",
        "x1+x2 ≤ 800\n",
        "\n",
        "x1 ≤ 400\n",
        "\n",
        "x2 ≤ 700, x1,x2 ≥0"
      ]
    },
    {
      "cell_type": "code",
      "metadata": {
        "id": "-LBQsMrYfld1"
      },
      "source": [
        "obj = [-4, -3]"
      ],
      "execution_count": 16,
      "outputs": []
    },
    {
      "cell_type": "code",
      "metadata": {
        "id": "Vm9ka8c1fqFv"
      },
      "source": [
        "lhs_ineq = [[2, 1],[1, 1]]"
      ],
      "execution_count": 17,
      "outputs": []
    },
    {
      "cell_type": "code",
      "metadata": {
        "id": "KxdMqsi-fsIh"
      },
      "source": [
        "rhs_ineq = [1000, 800]"
      ],
      "execution_count": 18,
      "outputs": []
    },
    {
      "cell_type": "code",
      "metadata": {
        "id": "fzsg3h0Ffu1y"
      },
      "source": [
        "bnd = [(0, 400), (0, 700)]"
      ],
      "execution_count": 19,
      "outputs": []
    },
    {
      "cell_type": "code",
      "metadata": {
        "colab": {
          "base_uri": "https://localhost:8080/"
        },
        "id": "rRWKFdgxfxWr",
        "outputId": "e18944d9-9011-4064-c6bb-024ed0e73b72"
      },
      "source": [
        "opt = linprog(c=obj, A_ub=lhs_ineq, b_ub=rhs_ineq, bounds=bnd, method=\"revised simplex\")\n",
        "opt\n"
      ],
      "execution_count": 21,
      "outputs": [
        {
          "output_type": "execute_result",
          "data": {
            "text/plain": [
              "     con: array([], dtype=float64)\n",
              "     fun: -2600.0\n",
              " message: 'Optimization terminated successfully.'\n",
              "     nit: 3\n",
              "   slack: array([0., 0.])\n",
              "  status: 0\n",
              " success: True\n",
              "       x: array([200., 600.])"
            ]
          },
          "metadata": {},
          "execution_count": 21
        }
      ]
    },
    {
      "cell_type": "code",
      "metadata": {
        "id": "5EGGOh0Jf0OD"
      },
      "source": [
        ""
      ],
      "execution_count": null,
      "outputs": []
    }
  ]
}