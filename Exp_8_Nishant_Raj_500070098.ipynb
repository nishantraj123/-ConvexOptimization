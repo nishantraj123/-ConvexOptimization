{
  "nbformat": 4,
  "nbformat_minor": 0,
  "metadata": {
    "colab": {
      "name": "Exp-8 Nishant Raj_500070098.ipynb",
      "provenance": [],
      "authorship_tag": "ABX9TyOE/GltSBpD0bwlZS+vvHoq",
      "include_colab_link": true
    },
    "kernelspec": {
      "name": "python3",
      "display_name": "Python 3"
    },
    "language_info": {
      "name": "python"
    }
  },
  "cells": [
    {
      "cell_type": "markdown",
      "metadata": {
        "id": "view-in-github",
        "colab_type": "text"
      },
      "source": [
        "<a href=\"https://colab.research.google.com/github/nishantraj123/-Operation-Research-Lab-Python/blob/main/Exp_8_Nishant_Raj_500070098.ipynb\" target=\"_parent\"><img src=\"https://colab.research.google.com/assets/colab-badge.svg\" alt=\"Open In Colab\"/></a>"
      ]
    },
    {
      "cell_type": "markdown",
      "metadata": {
        "id": "FpUO3a1t3Jxi"
      },
      "source": [
        "**TITLE: Special cases in LPP**"
      ]
    },
    {
      "cell_type": "markdown",
      "metadata": {
        "id": "z2dFX1Lc3Wnt"
      },
      "source": [
        "**1)**\t\n",
        "\n",
        "Minimize Z = X¬1 + X2\n",
        "\n",
        "Subject to,\n",
        "\n",
        " X1 + X2 ≤ 1\n",
        "\n",
        "-3X1 + X2 ≥3\n",
        "\n",
        " X1 ,X2 ≥0\n"
      ]
    },
    {
      "cell_type": "code",
      "metadata": {
        "id": "dJJ-Gq703CJb"
      },
      "source": [
        "from scipy.optimize import linprog"
      ],
      "execution_count": 1,
      "outputs": []
    },
    {
      "cell_type": "code",
      "metadata": {
        "id": "b8_sKow-7swy"
      },
      "source": [
        "obj1 = [1, 1]"
      ],
      "execution_count": 2,
      "outputs": []
    },
    {
      "cell_type": "code",
      "metadata": {
        "id": "hsI2TziK7sMD"
      },
      "source": [
        "lhs_ineq1 = [[ 1,  1],[3,  -1]]"
      ],
      "execution_count": 4,
      "outputs": []
    },
    {
      "cell_type": "code",
      "metadata": {
        "id": "dU2g39DG7r8o"
      },
      "source": [
        "rhs_ineq1 = [1,-3]"
      ],
      "execution_count": 5,
      "outputs": []
    },
    {
      "cell_type": "code",
      "metadata": {
        "id": "37yIlvMV7rl3"
      },
      "source": [
        "bnd1 = [(0, float(\"inf\")), (0, float(\"inf\"))]"
      ],
      "execution_count": 6,
      "outputs": []
    },
    {
      "cell_type": "code",
      "metadata": {
        "id": "fB2fEpit73S1"
      },
      "source": [
        "opt1 = linprog(c=obj1, A_ub=lhs_ineq1, b_ub=rhs_ineq1, bounds=bnd1, method=\"revised simplex\")"
      ],
      "execution_count": 7,
      "outputs": []
    },
    {
      "cell_type": "code",
      "metadata": {
        "colab": {
          "base_uri": "https://localhost:8080/"
        },
        "id": "ChUxW-P173C7",
        "outputId": "bba3c9b4-2abe-450e-b14a-e8b1a04164b9"
      },
      "source": [
        "opt1"
      ],
      "execution_count": 8,
      "outputs": [
        {
          "output_type": "execute_result",
          "data": {
            "text/plain": [
              "     con: array([], dtype=float64)\n",
              "     fun: 1.0\n",
              " message: 'The problem appears infeasible, as the phase one auxiliary problem terminated successfully with a residual of 2.0e+00, greater than the tolerance 1e-12 required for the solution to be considered feasible. Consider increasing the tolerance to be greater than 2.0e+00. If this tolerance is unnaceptably large, the problem is likely infeasible.'\n",
              "     nit: 1\n",
              "   slack: array([ 0., -2.])\n",
              "  status: 2\n",
              " success: False\n",
              "       x: array([0., 1.])"
            ]
          },
          "metadata": {},
          "execution_count": 8
        }
      ]
    },
    {
      "cell_type": "markdown",
      "metadata": {
        "id": "m77Zw_qP7_0p"
      },
      "source": [
        "**2)\t.**\n",
        "\n",
        "Maximize Z = 2X¬1 + 4X2\n",
        "\n",
        "Subject to,\n",
        "\n",
        " X1 + 2X2 ≤ 5\n",
        "\n",
        "X1 + X2 ≤ 4\n",
        "\n",
        "X1 ,X2 ≥0\n"
      ]
    },
    {
      "cell_type": "code",
      "metadata": {
        "id": "NNgfqySI8JTE"
      },
      "source": [
        "obj2 = [-2, -4]"
      ],
      "execution_count": 9,
      "outputs": []
    },
    {
      "cell_type": "code",
      "metadata": {
        "id": "AVSM-1IT8KYP"
      },
      "source": [
        "lhs_ineq2 = [[ 1,2],[1,1]]"
      ],
      "execution_count": 10,
      "outputs": []
    },
    {
      "cell_type": "code",
      "metadata": {
        "id": "Q1AFg8KT8KMq"
      },
      "source": [
        "rhs_ineq2 = [5,4]"
      ],
      "execution_count": 11,
      "outputs": []
    },
    {
      "cell_type": "code",
      "metadata": {
        "id": "Ux6xqN4J8KED"
      },
      "source": [
        "bnd2 = [(0, float(\"inf\")), (0, float(\"inf\"))]"
      ],
      "execution_count": 12,
      "outputs": []
    },
    {
      "cell_type": "code",
      "metadata": {
        "id": "h3-ipRPz8J8A"
      },
      "source": [
        "opt2 = linprog(c=obj2, A_ub=lhs_ineq2, b_ub=rhs_ineq2, bounds=bnd2, method=\"revised simplex\")"
      ],
      "execution_count": 13,
      "outputs": []
    },
    {
      "cell_type": "code",
      "metadata": {
        "colab": {
          "base_uri": "https://localhost:8080/"
        },
        "id": "w4Rllc0k8JwA",
        "outputId": "3f60dbc3-81e6-4679-f245-324d14a6b53b"
      },
      "source": [
        "opt2"
      ],
      "execution_count": 14,
      "outputs": [
        {
          "output_type": "execute_result",
          "data": {
            "text/plain": [
              "     con: array([], dtype=float64)\n",
              "     fun: -10.0\n",
              " message: 'Optimization terminated successfully.'\n",
              "     nit: 1\n",
              "   slack: array([0. , 1.5])\n",
              "  status: 0\n",
              " success: True\n",
              "       x: array([0. , 2.5])"
            ]
          },
          "metadata": {},
          "execution_count": 14
        }
      ]
    },
    {
      "cell_type": "markdown",
      "metadata": {
        "id": "5CTYNJIJ9FU2"
      },
      "source": [
        "**3)\t.**\n",
        "\n",
        "\n",
        "\n",
        "Maximize Z = 2X¬1 + X2\n",
        "\n",
        "Subject to,\n",
        "\n",
        " X1 - X2 ≤ 10\n",
        "\n",
        " 2X1 ≤ 40\n",
        "\n",
        "  X1 ,X2 ≥0\n"
      ]
    },
    {
      "cell_type": "code",
      "metadata": {
        "id": "mbem_2x39Ltr"
      },
      "source": [
        "obj3 = [-2,-1]"
      ],
      "execution_count": 15,
      "outputs": []
    },
    {
      "cell_type": "code",
      "metadata": {
        "id": "IvbSTD6Q9Mc7"
      },
      "source": [
        "lhs_ineq3 = [[ 1,-1],[2,0]]"
      ],
      "execution_count": 16,
      "outputs": []
    },
    {
      "cell_type": "code",
      "metadata": {
        "id": "h1Dp-0Vd9MSh"
      },
      "source": [
        "rhs_ineq3 = [10,40]"
      ],
      "execution_count": 17,
      "outputs": []
    },
    {
      "cell_type": "code",
      "metadata": {
        "id": "GnPLOsUm9MMf"
      },
      "source": [
        "bnd3 = [(0, float(\"inf\")), (0, float(\"inf\"))]"
      ],
      "execution_count": 18,
      "outputs": []
    },
    {
      "cell_type": "code",
      "metadata": {
        "id": "Eas4E2jb9MBy"
      },
      "source": [
        "opt3 = linprog(c=obj3, A_ub=lhs_ineq3, b_ub=rhs_ineq3, bounds=bnd3, method=\"revised simplex\")"
      ],
      "execution_count": 19,
      "outputs": []
    },
    {
      "cell_type": "code",
      "metadata": {
        "colab": {
          "base_uri": "https://localhost:8080/"
        },
        "id": "0aUmZqRC9YgC",
        "outputId": "efc1299d-6987-4c1f-944d-52ec44fc801a"
      },
      "source": [
        "opt3"
      ],
      "execution_count": 20,
      "outputs": [
        {
          "output_type": "execute_result",
          "data": {
            "text/plain": [
              "     con: array([], dtype=float64)\n",
              "     fun: -50.0\n",
              " message: 'The problem is unbounded, as the simplex algorithm found a basic feasible solution from which there is a direction with negative reduced cost in which all decision variables increase.'\n",
              "     nit: 2\n",
              "   slack: array([0., 0.])\n",
              "  status: 3\n",
              " success: False\n",
              "       x: array([20., 10.])"
            ]
          },
          "metadata": {},
          "execution_count": 20
        }
      ]
    },
    {
      "cell_type": "markdown",
      "metadata": {
        "id": "oglwO-2S-i4i"
      },
      "source": [
        "**4)\t.**\n",
        "\n",
        "Minimize Z = 3X¬1 + 2X2\n",
        "\n",
        "Subject to,\n",
        "\n",
        "2X1 + X2 ≤ 2\n",
        "\n",
        "3X1 + 4X2 ≥12\n",
        "\n",
        "X1 ,X2 ≥0\n"
      ]
    },
    {
      "cell_type": "code",
      "metadata": {
        "id": "J9NYfc_j-r0N"
      },
      "source": [
        "obj3 = [3,2]"
      ],
      "execution_count": 21,
      "outputs": []
    },
    {
      "cell_type": "code",
      "metadata": {
        "id": "jkG1bGxC-ts1"
      },
      "source": [
        "lhs_ineq3 = [[ 2,1],[-3,-4]]"
      ],
      "execution_count": 22,
      "outputs": []
    },
    {
      "cell_type": "code",
      "metadata": {
        "id": "cjtF_u3E-tfE"
      },
      "source": [
        "rhs_ineq3 = [2,-12]"
      ],
      "execution_count": 23,
      "outputs": []
    },
    {
      "cell_type": "code",
      "metadata": {
        "id": "ULqLQ3ey-tUl"
      },
      "source": [
        "bnd3 = [(0, float(\"inf\")), (0, float(\"inf\"))]"
      ],
      "execution_count": 24,
      "outputs": []
    },
    {
      "cell_type": "code",
      "metadata": {
        "id": "cFxIAexv-svq"
      },
      "source": [
        "opt3 = linprog(c=obj3, A_ub=lhs_ineq3, b_ub=rhs_ineq3, bounds=bnd3, method=\"revised simplex\")"
      ],
      "execution_count": 25,
      "outputs": []
    },
    {
      "cell_type": "code",
      "metadata": {
        "colab": {
          "base_uri": "https://localhost:8080/"
        },
        "id": "K8rZMlrq-slb",
        "outputId": "eb94d04b-40a3-4d58-9a99-74eb310e011d"
      },
      "source": [
        "opt3"
      ],
      "execution_count": 26,
      "outputs": [
        {
          "output_type": "execute_result",
          "data": {
            "text/plain": [
              "     con: array([], dtype=float64)\n",
              "     fun: 4.0\n",
              " message: 'The problem appears infeasible, as the phase one auxiliary problem terminated successfully with a residual of 4.0e+00, greater than the tolerance 1e-12 required for the solution to be considered feasible. Consider increasing the tolerance to be greater than 4.0e+00. If this tolerance is unnaceptably large, the problem is likely infeasible.'\n",
              "     nit: 1\n",
              "   slack: array([ 0., -4.])\n",
              "  status: 2\n",
              " success: False\n",
              "       x: array([0., 2.])"
            ]
          },
          "metadata": {},
          "execution_count": 26
        }
      ]
    }
  ]
}