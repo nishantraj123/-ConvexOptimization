{
  "nbformat": 4,
  "nbformat_minor": 0,
  "metadata": {
    "colab": {
      "name": "Nishant_Raj_500070098_R_103218183_15_Sept_2021_lab_5.ipynb",
      "provenance": [],
      "authorship_tag": "ABX9TyONc0jBC+7ElQThAWyIiEVi",
      "include_colab_link": true
    },
    "kernelspec": {
      "name": "python3",
      "display_name": "Python 3"
    },
    "language_info": {
      "name": "python"
    }
  },
  "cells": [
    {
      "cell_type": "markdown",
      "metadata": {
        "id": "view-in-github",
        "colab_type": "text"
      },
      "source": [
        "<a href=\"https://colab.research.google.com/github/nishantraj123/-Operation-Research-Lab-Python/blob/main/Nishant_Raj_500070098_R_103218183_15_Sept_2021_lab_5.ipynb\" target=\"_parent\"><img src=\"https://colab.research.google.com/assets/colab-badge.svg\" alt=\"Open In Colab\"/></a>"
      ]
    },
    {
      "cell_type": "markdown",
      "metadata": {
        "id": "NcMwA2HirfMN"
      },
      "source": [
        "**TITLE:   LPP using Array**"
      ]
    },
    {
      "cell_type": "code",
      "metadata": {
        "id": "O_bYTrIsa1cV"
      },
      "source": [
        "from scipy.optimize import linprog"
      ],
      "execution_count": 2,
      "outputs": []
    },
    {
      "cell_type": "markdown",
      "metadata": {
        "id": "eSfULPdwqllI"
      },
      "source": [
        "**1.** maximize  Z = 3X¬1 + 2X2 + 3X3 \n",
        "Subject to,\n",
        " 2X¬1 + X2 + X3 = 2\n",
        "X¬1 + 3X2 + X3 =6\n",
        "3X¬1 + 4X2 + 2X3 =8\n",
        "X1 ,X2 , X3 ≥0\n"
      ]
    },
    {
      "cell_type": "code",
      "metadata": {
        "id": "l0t-nM4qqnYH"
      },
      "source": [
        ""
      ],
      "execution_count": null,
      "outputs": []
    },
    {
      "cell_type": "markdown",
      "metadata": {
        "id": "7JCqJMYkqsN4"
      },
      "source": [
        "**2.** \tminimize  Z = 3X¬1 - 4X2 + 3X3 \n",
        "Subject to,\n",
        " 5X¬1 + 6X2 + 2X3 ≤ 5\n",
        "-X¬1 + 3X2 +5 X3 ≥ 8\n",
        "2X¬1 + 5X2 - 4X3 ≤4\n",
        "X1 ,X2 , X3 ≥0\n"
      ]
    },
    {
      "cell_type": "code",
      "metadata": {
        "colab": {
          "base_uri": "https://localhost:8080/"
        },
        "id": "T6ipWQiYq0HM",
        "outputId": "6434f4c0-88f7-433d-d5bc-caf6e9881154"
      },
      "source": [
        "obj1 = [3, -4, 3]\n",
        "a1 = [[ 5, 6, 2],[1, -3, -5], [2, 5, -4]]\n",
        "b1 = [5, -8, 4]\n",
        "bnd1 = [(0, float(\"inf\")), (0, float(\"inf\")), (0, float(\"inf\"))]\n",
        "opt1 = linprog(c=obj1, A_ub=a1, b_ub=b1, bounds=bnd1, method=\"revised simplex\")\n",
        "opt1"
      ],
      "execution_count": 3,
      "outputs": [
        {
          "output_type": "execute_result",
          "data": {
            "text/plain": [
              "     con: array([], dtype=float64)\n",
              "     fun: 2.625\n",
              " message: 'Optimization terminated successfully.'\n",
              "     nit: 2\n",
              "   slack: array([0.   , 0.   , 7.625])\n",
              "  status: 0\n",
              " success: True\n",
              "       x: array([0.   , 0.375, 1.375])"
            ]
          },
          "metadata": {},
          "execution_count": 3
        }
      ]
    },
    {
      "cell_type": "markdown",
      "metadata": {
        "id": "91wyAGJerAge"
      },
      "source": [
        "**3.** \tmaximize  Z = 2X¬1 + 4X2 + 4X3  -3X4\n",
        "Subject to,\n",
        " X¬1 + X2 + X3 = 4\n",
        "X¬1 + 4X2 + X4 =8\n",
        "3X¬1 + 4X2 + 2X3 =8\n",
        "X1 ,X2 , X3 , X4 ≥0\n"
      ]
    },
    {
      "cell_type": "code",
      "metadata": {
        "id": "chwdNN1JrKkt"
      },
      "source": [
        "obj2 = [-2, -4, -4, 3]"
      ],
      "execution_count": 4,
      "outputs": []
    },
    {
      "cell_type": "code",
      "metadata": {
        "id": "gijbUfsCrTZ_"
      },
      "source": [
        "a2 = [[ 1, 1, 1, 0],[1, 4, 0, 1],[3, 4, 2, 0]]\n",
        "b2 = [4, 8, 8]"
      ],
      "execution_count": 5,
      "outputs": []
    },
    {
      "cell_type": "code",
      "metadata": {
        "id": "1ed7GQVMrWo1"
      },
      "source": [
        "bnd2 = [(0, float(\"inf\")), (0, float(\"inf\")), (0, float(\"inf\")), (0, float(\"inf\"))]"
      ],
      "execution_count": 6,
      "outputs": []
    },
    {
      "cell_type": "code",
      "metadata": {
        "colab": {
          "base_uri": "https://localhost:8080/"
        },
        "id": "UNKUN3ikrbWJ",
        "outputId": "3df60113-be65-4559-a034-e178770dec72"
      },
      "source": [
        "opt2 = linprog(c=obj2, A_eq=a2, b_eq=b2, bounds=bnd2, method=\"revised simplex\")\n",
        "opt2"
      ],
      "execution_count": 7,
      "outputs": [
        {
          "output_type": "execute_result",
          "data": {
            "text/plain": [
              "     con: array([0., 0., 0.])\n",
              "     fun: 8.0\n",
              " message: 'Optimization terminated successfully.'\n",
              "     nit: 3\n",
              "   slack: array([], dtype=float64)\n",
              "  status: 0\n",
              " success: True\n",
              "       x: array([0., 0., 4., 8.])"
            ]
          },
          "metadata": {},
          "execution_count": 7
        }
      ]
    }
  ]
}