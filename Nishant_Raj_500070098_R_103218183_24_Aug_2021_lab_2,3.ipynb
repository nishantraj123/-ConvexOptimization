{
  "nbformat": 4,
  "nbformat_minor": 0,
  "metadata": {
    "colab": {
      "name": "Nishant Raj_500070098_R-103218183 24/Aug/2021 lab-2.ipynb",
      "provenance": [],
      "authorship_tag": "ABX9TyOl4Phb68UXLqTfOl3byjrP",
      "include_colab_link": true
    },
    "kernelspec": {
      "name": "python3",
      "display_name": "Python 3"
    },
    "language_info": {
      "name": "python"
    }
  },
  "cells": [
    {
      "cell_type": "markdown",
      "metadata": {
        "id": "view-in-github",
        "colab_type": "text"
      },
      "source": [
        "<a href=\"https://colab.research.google.com/github/nishantraj123/-ConvexOptimization/blob/main/Nishant_Raj_500070098_R_103218183_24_Aug_2021_lab_2.ipynb\" target=\"_parent\"><img src=\"https://colab.research.google.com/assets/colab-badge.svg\" alt=\"Open In Colab\"/></a>"
      ]
    },
    {
      "cell_type": "markdown",
      "metadata": {
        "id": "0RUqjG4XHciK"
      },
      "source": [
        "Q1. A firm is engaged in producing two products, A and B. Each unit of product A requires 2 kg of raw material and 4 labour hours for processing, whereas each unit of product B requires 3 kg of raw material and 3 hours of labour, of the same type. Every week, the firm has an availability of 60 kg of raw material and 96 labour hours. One unit of product A sold yields Rs. 40 and one unit of product B sold gives Rs. 35 as profit. Formulate this problem as a linear programming problem to determine as to how many units of each of the products should be produced per week so that the firm can earn the maximum profit."
      ]
    },
    {
      "cell_type": "code",
      "metadata": {
        "colab": {
          "base_uri": "https://localhost:8080/"
        },
        "id": "4NaGVJ2MHeAU",
        "outputId": "55fc2fcf-1ea4-4d2a-e38d-a21f945f2a50"
      },
      "source": [
        "from scipy.optimize import linprog\n",
        "obj1 = [-40, -35]\n",
        "lhs_ineq1 = [[ 2,  3],[4,  3]]\n",
        "rhs_ineq1 = [60, 96]\n",
        "bnd1 = [(0, float(\"inf\")), (0, float(\"inf\"))]\n",
        "opt1 = linprog(c=obj1, A_ub=lhs_ineq1, b_ub=rhs_ineq1, bounds=bnd1, method=\"revised simplex\")\n",
        "opt1"
      ],
      "execution_count": 3,
      "outputs": [
        {
          "output_type": "execute_result",
          "data": {
            "text/plain": [
              "     con: array([], dtype=float64)\n",
              "     fun: -1000.0\n",
              " message: 'Optimization terminated successfully.'\n",
              "     nit: 2\n",
              "   slack: array([0., 0.])\n",
              "  status: 0\n",
              " success: True\n",
              "       x: array([18.,  8.])"
            ]
          },
          "metadata": {},
          "execution_count": 3
        }
      ]
    },
    {
      "cell_type": "markdown",
      "metadata": {
        "id": "0zU2vJu2Ho2m"
      },
      "source": [
        "Q2. The Agricultural research Institute suggested to a farmer to spread out at least 4800 kg of a special phosphate fertilizer and not less than 7200 kg of a special nitrogen fertilizer to raise productivity of crops in his fields. There are two sources for obtaining these − mixtures A and B. Both of these are available in bags weighing 100 kg each and they cost Rs. 40 and Rs. 24 respectively. Mixture A contains phosphate and nitrogen equivalent of 20 kg and 80 kg respectively, while mixture B contains these ingredients equivalent of 50 kg each. Write as a linear programming problem to determine how many bags of each type the farmer should buy in order to obtain the required fertilizer at a minimum cost."
      ]
    },
    {
      "cell_type": "code",
      "metadata": {
        "colab": {
          "base_uri": "https://localhost:8080/"
        },
        "id": "YloIIchOHqch",
        "outputId": "9c31c9fc-7697-4390-e8f7-88b7068930e2"
      },
      "source": [
        "obj2 = [40, 24]\n",
        "lhs_ineq2 = [[ -20,  -50],[-80,  -50]]\n",
        "rhs_ineq2 = [-4800, -7200]\n",
        "bnd2 = [(0, float(\"inf\")), (0, float(\"inf\"))]\n",
        "opt2 = linprog(c=obj2, A_ub=lhs_ineq2, b_ub=rhs_ineq2, bounds=bnd2, method=\"revised simplex\")\n",
        "opt2"
      ],
      "execution_count": 4,
      "outputs": [
        {
          "output_type": "execute_result",
          "data": {
            "text/plain": [
              "     con: array([], dtype=float64)\n",
              "     fun: 3456.0\n",
              " message: 'Optimization terminated successfully.'\n",
              "     nit: 3\n",
              "   slack: array([2400.,    0.])\n",
              "  status: 0\n",
              " success: True\n",
              "       x: array([  0., 144.])"
            ]
          },
          "metadata": {},
          "execution_count": 4
        }
      ]
    },
    {
      "cell_type": "markdown",
      "metadata": {
        "id": "AO8Z5GkUHxxU"
      },
      "source": [
        "Q3. A company manufactures two products A and B. These products are processed in the same machine. It takes 10 minutes to process one unit of product A and 2 minutes for each unit of product B and the machine operates for a maximum of 35 hours in a week. Product A requires 1 kg and B 0.5 kg of raw material per unit, the supply of which is 600 kg per week. Market constraint on product B is known to be minimum of 800 units every week. Product A costs Rs. 5 per unit and sold at Rs. 10. Product B costs Rs. 6 per unit and can be sold in the market at a unit price of Rs. 8. Determine the number of units of A and B per week to maximize the profit.\n",
        "\n"
      ]
    },
    {
      "cell_type": "code",
      "metadata": {
        "colab": {
          "base_uri": "https://localhost:8080/"
        },
        "id": "t4jA5fNVHyoE",
        "outputId": "509283a9-d30c-44ad-bb24-5393aeee1533"
      },
      "source": [
        "obj3 = [-5, -2]\n",
        "lhs_ineq3 = [[ 10,  2],[1,  0.5]]\n",
        "rhs_ineq3 = [2100, 600]\n",
        "bnd3 = [(0, float(\"inf\")), (800, float(\"inf\"))]\n",
        "opt3 = linprog(c=obj3, A_ub=lhs_ineq3, b_ub=rhs_ineq3, bounds=bnd3, method=\"revised simplex\")\n",
        "opt3\n"
      ],
      "execution_count": 5,
      "outputs": [
        {
          "output_type": "execute_result",
          "data": {
            "text/plain": [
              "     con: array([], dtype=float64)\n",
              "     fun: -2100.0\n",
              " message: 'Optimization terminated successfully.'\n",
              "     nit: 2\n",
              "   slack: array([ 0., 75.])\n",
              "  status: 0\n",
              " success: True\n",
              "       x: array([   0., 1050.])"
            ]
          },
          "metadata": {},
          "execution_count": 5
        }
      ]
    },
    {
      "cell_type": "markdown",
      "metadata": {
        "id": "15aQBCn2H6Qr"
      },
      "source": [
        "Q4. An electric appliance company produces two products: refrigerators and ranges. Production takes place in two separate departments I and II. Refrigerators are produced in department I and ranges in department II. The company's two products are sold on a weekly basis. the weekly production cannot exceed 25 refrigerators and 35 ranges. the company regularly employs a total of 60 workers in the two departments. A refrigerator requires 2 man-weeks labour while a range requires 1 man-week labour. A refrigerator contributes a profit of Rs. 60 and range contributes a profit of Rs. 40. how many units of refrigerators and ranges should the company produce to realize the maximum profit?"
      ]
    },
    {
      "cell_type": "code",
      "metadata": {
        "colab": {
          "base_uri": "https://localhost:8080/"
        },
        "id": "uBd0B6zlH7H-",
        "outputId": "7e21e82b-2b0e-4ca5-e6f9-81873a376a6e"
      },
      "source": [
        "obj4 = [-60, -40]\n",
        "lhs_ineq4 = [[ 2,  1]]\n",
        "rhs_ineq4 = [60]\n",
        "bnd4 = [(0, 25), (0, 35)]\n",
        "opt4 = linprog(c=obj4, A_ub=lhs_ineq4, b_ub=rhs_ineq4, bounds=bnd4, method=\"revised simplex\")\n",
        "opt4"
      ],
      "execution_count": 6,
      "outputs": [
        {
          "output_type": "execute_result",
          "data": {
            "text/plain": [
              "     con: array([], dtype=float64)\n",
              "     fun: -2150.0\n",
              " message: 'Optimization terminated successfully.'\n",
              "     nit: 3\n",
              "   slack: array([0.])\n",
              "  status: 0\n",
              " success: True\n",
              "       x: array([12.5, 35. ])"
            ]
          },
          "metadata": {},
          "execution_count": 6
        }
      ]
    },
    {
      "cell_type": "markdown",
      "metadata": {
        "id": "t4lkWHNYH_N-"
      },
      "source": [
        "Q5. Solve the following LPP:-\n",
        "\n",
        "Minimize Z = 20X1 + 10X2\n",
        "\n",
        "Subject to\n",
        "\n",
        "X1 + 2X2 ≤ 40\n",
        "\n",
        "3X1 + 1X2 ≥ 30\n",
        "\n",
        "4X1 + 3X2 ≥ 60\n",
        "\n",
        "X1 ,X2 ≥ 0"
      ]
    },
    {
      "cell_type": "code",
      "metadata": {
        "colab": {
          "base_uri": "https://localhost:8080/"
        },
        "id": "JyRSVhs3IEf9",
        "outputId": "bdafbd5d-1e33-4241-9c90-a351de843669"
      },
      "source": [
        "obj5 = [20, 10]\n",
        "lhs_ineq5 = [[ 1,  2],[-3,  -1], [-4,  -3]]\n",
        "rhs_ineq5 = [40, -30, -60]\n",
        "bnd5 = [(0, float(\"inf\")), (0, float(\"inf\"))]\n",
        "opt5 = linprog(c=obj5, A_ub=lhs_ineq5, b_ub=rhs_ineq5, bounds=bnd5, method=\"revised simplex\")\n",
        "opt5"
      ],
      "execution_count": 7,
      "outputs": [
        {
          "output_type": "execute_result",
          "data": {
            "text/plain": [
              "     con: array([], dtype=float64)\n",
              "     fun: 240.0\n",
              " message: 'Optimization terminated successfully.'\n",
              "     nit: 2\n",
              "   slack: array([10.,  0.,  0.])\n",
              "  status: 0\n",
              " success: True\n",
              "       x: array([ 6., 12.])"
            ]
          },
          "metadata": {},
          "execution_count": 7
        }
      ]
    },
    {
      "cell_type": "markdown",
      "metadata": {
        "id": "WbaDKJlkIKIs"
      },
      "source": [
        "Q6. Solve the following LPP:-\n",
        "\n",
        "Maximize Z = X1 + X2 + 3X3\n",
        "\n",
        "Subject to\n",
        "\n",
        "3X1 + 2X2 +X3 ≤300\n",
        "\n",
        "2X1 + X2 + 2X3 ≤200\n",
        "\n",
        "X1 , X2 , X3 ≥0"
      ]
    },
    {
      "cell_type": "code",
      "metadata": {
        "colab": {
          "base_uri": "https://localhost:8080/"
        },
        "id": "OHQNQNeOILuI",
        "outputId": "44eb5c91-9d87-4c06-abff-2e8dec7082c8"
      },
      "source": [
        "obj6 = [-1, -1, -3]\n",
        "lhs_ineq6 = [[ 3,  2, 1],[2, 1, 2]]\n",
        "rhs_ineq6 = [300, 200]\n",
        "bnd6 = [(0, float(\"inf\")), (0, float(\"inf\")),  (0, float(\"inf\"))]\n",
        "opt6 = linprog(c=obj6, A_ub=lhs_ineq6, b_ub=rhs_ineq6, bounds=bnd6, method=\"revised simplex\")\n",
        "opt6"
      ],
      "execution_count": 8,
      "outputs": [
        {
          "output_type": "execute_result",
          "data": {
            "text/plain": [
              "     con: array([], dtype=float64)\n",
              "     fun: -300.0\n",
              " message: 'Optimization terminated successfully.'\n",
              "     nit: 1\n",
              "   slack: array([200.,   0.])\n",
              "  status: 0\n",
              " success: True\n",
              "       x: array([  0.,   0., 100.])"
            ]
          },
          "metadata": {},
          "execution_count": 8
        }
      ]
    }
  ]
}
