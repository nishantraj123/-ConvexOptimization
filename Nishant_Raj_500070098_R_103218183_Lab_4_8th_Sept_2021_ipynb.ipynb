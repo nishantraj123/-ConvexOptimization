{
  "nbformat": 4,
  "nbformat_minor": 0,
  "metadata": {
    "colab": {
      "name": "Nishant Raj_500070098_R-103218183_Lab-4_8th/Sept/2021.ipynb.ipynb",
      "provenance": [],
      "authorship_tag": "ABX9TyOZo7TqAz0NvLlx6gj+N5mf",
      "include_colab_link": true
    },
    "kernelspec": {
      "name": "python3",
      "display_name": "Python 3"
    },
    "language_info": {
      "name": "python"
    }
  },
  "cells": [
    {
      "cell_type": "markdown",
      "metadata": {
        "id": "view-in-github",
        "colab_type": "text"
      },
      "source": [
        "<a href=\"https://colab.research.google.com/github/nishantraj123/-Operation-Research-Lab-Python/blob/main/Nishant_Raj_500070098_R_103218183_Lab_4_8th_Sept_2021_ipynb.ipynb\" target=\"_parent\"><img src=\"https://colab.research.google.com/assets/colab-badge.svg\" alt=\"Open In Colab\"/></a>"
      ]
    },
    {
      "cell_type": "markdown",
      "metadata": {
        "id": "vndTZ_kUkEoc"
      },
      "source": [
        "**TITLE Integer Programming Problem(IPP)**"
      ]
    },
    {
      "cell_type": "markdown",
      "metadata": {
        "id": "fKTM8kuUkQQg"
      },
      "source": [
        "1Q. **Maximize:-**\n",
        "\n",
        "   z= 7x1 + 10x2\n",
        "\n",
        "   Subject To:-\n",
        "\n",
        "   -x1+ 3x2 <= 6\n",
        "\n",
        "   7x1+x2 <=35\n",
        "\n",
        "   x1,x2>=0 and integers\n",
        "\n",
        " **1. SOLUTION**"
      ]
    },
    {
      "cell_type": "code",
      "metadata": {
        "id": "z3cphUGBkBeH"
      },
      "source": [
        "import cvxpy as cp"
      ],
      "execution_count": 1,
      "outputs": []
    },
    {
      "cell_type": "code",
      "metadata": {
        "id": "lR6zdgankDwZ"
      },
      "source": [
        "x1 = cp.Variable()\n",
        "x2 = cp.Variable()"
      ],
      "execution_count": 2,
      "outputs": []
    },
    {
      "cell_type": "code",
      "metadata": {
        "id": "ilmREzr7ki0N"
      },
      "source": [
        "objective = cp.Maximize( 7*x1 + 10*x2 )"
      ],
      "execution_count": 3,
      "outputs": []
    },
    {
      "cell_type": "code",
      "metadata": {
        "id": "qIoyhnkQl2BC"
      },
      "source": [
        "constraints = [ -1*x1 + 3*x2 <= 6 ,\n",
        "               7*x1 + x2 <= 35]"
      ],
      "execution_count": 22,
      "outputs": []
    },
    {
      "cell_type": "code",
      "metadata": {
        "id": "RTJ76QS1kplF"
      },
      "source": [
        "prob = cp.Problem(objective,constraints)"
      ],
      "execution_count": 4,
      "outputs": []
    },
    {
      "cell_type": "code",
      "metadata": {
        "colab": {
          "base_uri": "https://localhost:8080/"
        },
        "id": "Ek9Iu7-VkqsE",
        "outputId": "5ea9b3b9-457a-4dce-9b18-fb70f9d3f006"
      },
      "source": [
        "prob.solve()"
      ],
      "execution_count": 5,
      "outputs": [
        {
          "output_type": "execute_result",
          "data": {
            "text/plain": [
              "66.49999997691361"
            ]
          },
          "metadata": {},
          "execution_count": 5
        }
      ]
    },
    {
      "cell_type": "markdown",
      "metadata": {
        "id": "pIM7IoRek0m2"
      },
      "source": [
        "**Q2. Maximize:**\n",
        "\n",
        "  z=5x1+8x2\n",
        "\n",
        "  Subject To:-\n",
        "\n",
        "  x1+x2 <=6\n",
        "\n",
        "  5x1+9x2 <=45\n",
        "\n",
        "  x1,x2 >=0 and integers\n",
        "\n",
        "  \n",
        "**2. SOLUTION**"
      ]
    },
    {
      "cell_type": "code",
      "metadata": {
        "id": "m65ehccqkiw_"
      },
      "source": [
        "x1 = cp.Variable()\n",
        "x2 = cp.Variable()"
      ],
      "execution_count": 6,
      "outputs": []
    },
    {
      "cell_type": "code",
      "metadata": {
        "id": "gTJczBBUk_Mt"
      },
      "source": [
        "objective = cp.Maximize( 5*x1 + 8*x2 )"
      ],
      "execution_count": 30,
      "outputs": []
    },
    {
      "cell_type": "code",
      "metadata": {
        "id": "LjJRAqMclB8Z"
      },
      "source": [
        "constraints = [ 1*x1 + 1*x2 <= 6 ,  5*x1 + 9*x2 <= 45]"
      ],
      "execution_count": 34,
      "outputs": []
    },
    {
      "cell_type": "code",
      "metadata": {
        "id": "QI7riHXZlF_R"
      },
      "source": [
        "prob = cp.Problem(obj, constraints)"
      ],
      "execution_count": 35,
      "outputs": []
    },
    {
      "cell_type": "code",
      "metadata": {
        "colab": {
          "base_uri": "https://localhost:8080/"
        },
        "id": "YOlhT0nwlMFk",
        "outputId": "53c8907d-e8fd-44f7-d93b-156a52556b89"
      },
      "source": [
        "prob.solve()"
      ],
      "execution_count": 36,
      "outputs": [
        {
          "output_type": "execute_result",
          "data": {
            "text/plain": [
              "40.0"
            ]
          },
          "metadata": {},
          "execution_count": 36
        }
      ]
    },
    {
      "cell_type": "markdown",
      "metadata": {
        "id": "a8jkWJ37lQXe"
      },
      "source": [
        "**Q3. \tA machine is used to produce two interchangeable products. The daily capacity of the\n",
        "machine can produce at most 20 units of product 1 and 10 units of product 2. Alternatively,\n",
        "       the machine can be adjusted to produce at most 12 units of product 1 and 25\n",
        "       units of product 2 daily. Market analysis shows that the maximum daily demand for the\n",
        "       two products combined is 35 units. Given that the unit profits for the two respective\n",
        "       products are $10 and $12, which of the two machine settings should be selected? \n",
        "       Formulate the problem as an IPP and find the optimum. **bold text**\n",
        "\n",
        "**SOLUTION**\n"
      ]
    },
    {
      "cell_type": "code",
      "metadata": {
        "id": "i_rzSP0tlUhc"
      },
      "source": [
        "x1 = cp.Variable(integer=True)\n",
        "x2 = cp.Variable(integer=True)"
      ],
      "execution_count": 14,
      "outputs": []
    },
    {
      "cell_type": "code",
      "metadata": {
        "id": "hdQx-Hp9lbOf"
      },
      "source": [
        "objective = cp.Maximize( 10*x1 + 12*x2 )"
      ],
      "execution_count": 15,
      "outputs": []
    },
    {
      "cell_type": "code",
      "metadata": {
        "id": "PoXW9i6nld5Y"
      },
      "source": [
        "constraints = [x1 + x2 <= 35,\n",
        "               25*x1-12*x2 <= 0,\n",
        "               12*x1-10*x2 <= 0,\n",
        "               x1>=0, x2>=0]"
      ],
      "execution_count": 19,
      "outputs": []
    },
    {
      "cell_type": "code",
      "metadata": {
        "id": "T5z90HtflrfE"
      },
      "source": [
        "prob = cp.Problem(objective,constraints)"
      ],
      "execution_count": 20,
      "outputs": []
    },
    {
      "cell_type": "code",
      "metadata": {
        "colab": {
          "base_uri": "https://localhost:8080/"
        },
        "id": "2Sejtv-9lxEx",
        "outputId": "b5a06449-1ddf-4d32-a0d7-aef3a73f0ad0"
      },
      "source": [
        "prob.solve()\n",
        "print(\"X1 : \", x1.value)\n",
        "print(\"X2 : \", x2.value)\n",
        "print(\"Value of obj : \", objective.value)"
      ],
      "execution_count": 21,
      "outputs": [
        {
          "output_type": "stream",
          "name": "stdout",
          "text": [
            "X1 :  0.0\n",
            "X2 :  35.0\n",
            "Value of obj :  420.0\n"
          ]
        }
      ]
    }
  ]
}